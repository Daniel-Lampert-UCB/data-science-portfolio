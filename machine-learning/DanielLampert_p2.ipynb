{
 "cells": [
  {
   "cell_type": "markdown",
   "metadata": {
    "colab_type": "text",
    "id": "6t55qCf3Fsxa"
   },
   "source": [
    "# Project 2: Topic Classification"
   ]
  },
  {
   "cell_type": "markdown",
   "metadata": {
    "colab_type": "text",
    "id": "j9-9G8z4Fsxd"
   },
   "source": [
    "In this project, you'll work with text data from newsgroup posts on a variety of topics. You'll train classifiers to distinguish posts by topics inferred from the text. Whereas with digit classification, where each input is relatively dense (represented as a 28x28 matrix of pixels, many of which are non-zero), here each document is relatively sparse (represented as a bag-of-words). Only a few words of the total vocabulary are active in any given document. The assumption is that a label depends only on the count of words, not their order.\n",
    "\n",
    "The `sklearn` documentation on feature extraction may be useful:\n",
    "http://scikit-learn.org/stable/modules/feature_extraction.html\n",
    "\n",
    "Each problem can be addressed succinctly with the included packages -- please don't add any more. Grading will be based on writing clean, commented code, along with a few short answers.\n",
    "\n",
    "As always, you're welcome to work on the project in groups and discuss ideas on Slack, but <b> please prepare your own write-up with your own code. </b>"
   ]
  },
  {
   "cell_type": "code",
   "execution_count": 2,
   "metadata": {
    "colab": {},
    "colab_type": "code",
    "id": "AUYW83LqFsxd"
   },
   "outputs": [],
   "source": [
    "# This tells matplotlib not to try opening a new window for each plot.\n",
    "%matplotlib inline\n",
    "\n",
    "# General libraries.\n",
    "import re\n",
    "import numpy as np\n",
    "import matplotlib.pyplot as plt\n",
    "\n",
    "# SK-learn libraries for learning.\n",
    "from sklearn.pipeline import Pipeline\n",
    "from sklearn.neighbors import KNeighborsClassifier\n",
    "from sklearn.linear_model import LogisticRegression\n",
    "from sklearn.naive_bayes import BernoulliNB\n",
    "from sklearn.naive_bayes import MultinomialNB\n",
    "\n",
    "# SK-learn libraries for evaluation.\n",
    "from sklearn.metrics import confusion_matrix\n",
    "from sklearn import metrics\n",
    "from sklearn.metrics import classification_report\n",
    "\n",
    "# SK-learn library for importing the newsgroup data.\n",
    "from sklearn.datasets import fetch_20newsgroups\n",
    "\n",
    "# SK-learn libraries for feature extraction from text.\n",
    "from sklearn.feature_extraction.text import *\n",
    "\n",
    "import nltk"
   ]
  },
  {
   "cell_type": "markdown",
   "metadata": {
    "colab_type": "text",
    "id": "_ALNjGgCFsxg"
   },
   "source": [
    "Load the data, stripping out metadata so that only textual features will be used, and restricting documents to 4 specific topics. By default, newsgroups data is split into training and test sets, but here the test set gets further split into development and test sets.  (If you remove the categories argument from the fetch function calls, you'd get documents from all 20 topics.)"
   ]
  },
  {
   "cell_type": "code",
   "execution_count": 3,
   "metadata": {
    "colab": {},
    "colab_type": "code",
    "id": "ecYpcoxaFsxh"
   },
   "outputs": [
    {
     "name": "stdout",
     "output_type": "stream",
     "text": [
      "training label shape: (2034,)\n",
      "dev label shape: (676,)\n",
      "test label shape: (677,)\n",
      "labels names: ['alt.atheism', 'comp.graphics', 'sci.space', 'talk.religion.misc']\n"
     ]
    }
   ],
   "source": [
    "categories = ['alt.atheism', 'talk.religion.misc', 'comp.graphics', 'sci.space']\n",
    "newsgroups_train = fetch_20newsgroups(subset='train',\n",
    "                                      remove=('headers', 'footers', 'quotes'),\n",
    "                                      categories=categories)\n",
    "newsgroups_test  = fetch_20newsgroups(subset='test',\n",
    "                                      remove=('headers', 'footers', 'quotes'),\n",
    "                                      categories=categories)\n",
    "\n",
    "num_test = int(len(newsgroups_test.target) / 2)\n",
    "test_data, test_labels   = newsgroups_test.data[num_test:], newsgroups_test.target[num_test:]\n",
    "dev_data, dev_labels     = newsgroups_test.data[:num_test], newsgroups_test.target[:num_test]\n",
    "train_data, train_labels = newsgroups_train.data, newsgroups_train.target\n",
    "\n",
    "print('training label shape:', train_labels.shape)\n",
    "print('dev label shape:',      dev_labels.shape)\n",
    "print('test label shape:',     test_labels.shape)\n",
    "print('labels names:',         newsgroups_train.target_names)"
   ]
  },
  {
   "cell_type": "markdown",
   "metadata": {
    "colab_type": "text",
    "id": "OHTnOke6Fsxk"
   },
   "source": [
    "### Part 1:\n",
    "\n",
    "For each of the first 5 training examples, print the text of the message along with the label."
   ]
  },
  {
   "cell_type": "code",
   "execution_count": 4,
   "metadata": {
    "colab": {},
    "colab_type": "code",
    "id": "X8zhA06xFsxl"
   },
   "outputs": [
    {
     "name": "stdout",
     "output_type": "stream",
     "text": [
      "comp.graphics: Hi,\n",
      "\n",
      "I've noticed that if you only save a model (with all your mapping planes\n",
      "positioned carefully) to a .3DS file that when you reload it after restarting\n",
      "3DS, they are given a default position and orientation.  But if you save\n",
      "to a .PRJ file their positions/orientation are preserved.  Does anyone\n",
      "know why this information is not stored in the .3DS file?  Nothing is\n",
      "explicitly said in the manual about saving texture rules in the .PRJ file. \n",
      "I'd like to be able to read the texture rule information, does anyone have \n",
      "the format for the .PRJ file?\n",
      "\n",
      "Is the .CEL file format available from somewhere?\n",
      "\n",
      "Rych\n",
      "talk.religion.misc: \n",
      "\n",
      "Seems to be, barring evidence to the contrary, that Koresh was simply\n",
      "another deranged fanatic who thought it neccessary to take a whole bunch of\n",
      "folks with him, children and all, to satisfy his delusional mania. Jim\n",
      "Jones, circa 1993.\n",
      "\n",
      "\n",
      "Nope - fruitcakes like Koresh have been demonstrating such evil corruption\n",
      "for centuries.\n",
      "sci.space: \n",
      " >In article <1993Apr19.020359.26996@sq.sq.com>, msb@sq.sq.com (Mark Brader) \n",
      "\n",
      "MB>                                                             So the\n",
      "MB> 1970 figure seems unlikely to actually be anything but a perijove.\n",
      "\n",
      "JG>Sorry, _perijoves_...I'm not used to talking this language.\n",
      "\n",
      "Couldn't we just say periapsis or apoapsis?\n",
      "\n",
      " \n",
      "alt.atheism: I have a request for those who would like to see Charley Wingate\n",
      "respond to the \"Charley Challenges\" (and judging from my e-mail, there\n",
      "appear to be quite a few of you.)  \n",
      "\n",
      "It is clear that Mr. Wingate intends to continue to post tangential or\n",
      "unrelated articles while ingoring the Challenges themselves.  Between\n",
      "the last two re-postings of the Challenges, I noted perhaps a dozen or\n",
      "more posts by Mr. Wingate, none of which answered a single Challenge.  \n",
      "\n",
      "It seems unmistakable to me that Mr. Wingate hopes that the questions\n",
      "will just go away, and he is doing his level best to change the\n",
      "subject.  Given that this seems a rather common net.theist tactic, I\n",
      "would like to suggest that we impress upon him our desire for answers,\n",
      "in the following manner:\n",
      "\n",
      "1. Ignore any future articles by Mr. Wingate that do not address the\n",
      "Challenges, until he answers them or explictly announces that he\n",
      "refuses to do so.\n",
      "\n",
      "--or--\n",
      "\n",
      "2. If you must respond to one of his articles, include within it\n",
      "something similar to the following:\n",
      "\n",
      "    \"Please answer the questions posed to you in the Charley Challenges.\"\n",
      "\n",
      "Really, I'm not looking to humiliate anyone here, I just want some\n",
      "honest answers.  You wouldn't think that honesty would be too much to\n",
      "ask from a devout Christian, would you?  \n",
      "\n",
      "Nevermind, that was a rhetorical question.\n",
      "sci.space: AW&ST  had a brief blurb on a Manned Lunar Exploration confernce\n",
      "May 7th  at Crystal City Virginia, under the auspices of AIAA.\n",
      "\n",
      "Does anyone know more about this?  How much, to attend????\n",
      "\n",
      "Anyone want to go?\n"
     ]
    }
   ],
   "source": [
    "def P1(num_examples=5):\n",
    "    \"Returns first five training samples and their lables\"\n",
    "    first_five_text = train_data[:num_examples] #limits to first 5 examples of text\n",
    "    first_five_labels = train_labels[:num_examples]#limits to first 5 examples of labels\n",
    "    labels_str = np.where(first_five_labels == 0, 'alt.atheism', #converts integers to label\n",
    "         (np.where(first_five_labels ==1, 'comp.graphics', (np.where(first_five_labels ==2, 'sci.space', 'talk.religion.misc'))))) \n",
    "    \n",
    "    for idx,i in enumerate(first_five_text): #iterates over first five examples in train data \n",
    "        for ix, j in enumerate(labels_str):\n",
    "            if idx == ix:\n",
    "                print(f'{j}: {i}')\n",
    "                \n",
    "    \n",
    "\n",
    "            \n",
    "\n",
    "\n",
    "P1(5)"
   ]
  },
  {
   "cell_type": "markdown",
   "metadata": {
    "colab_type": "text",
    "id": "onfno6uHFsxm"
   },
   "source": [
    "### Part 2:\n",
    "\n",
    "Transform the training data into a matrix of **word** unigram feature vectors.  What is the size of the vocabulary? What is the average number of non-zero features per example?  What is the fraction of the non-zero entries in the matrix?  What are the 0th and last feature strings (in alphabetical order)?<br/>\n",
    "_Use `CountVectorization` and its `.fit_transform` method.  Use `.nnz` and `.shape` attributes, and `.get_feature_names` method._\n",
    "\n",
    "Now transform the training data into a matrix of **word** unigram feature vectors using your own vocabulary with these 4 words: [\"atheism\", \"graphics\", \"space\", \"religion\"].  Confirm the size of the vocabulary. What is the average number of non-zero features per example?<br/>\n",
    "_Use `CountVectorization(vocabulary=...)` and its `.transform` method._\n",
    "\n",
    "Now transform the training data into a matrix of **character** bigram and trigram feature vectors.  What is the size of the vocabulary?<br/>\n",
    "_Use `CountVectorization(analyzer=..., ngram_range=...)` and its `.fit_transform` method._\n",
    "\n",
    "Now transform the training data into a matrix of **word** unigram feature vectors and prune words that appear in fewer than 10 documents.  What is the size of the vocabulary?<br/>\n",
    "_Use `CountVectorization(min_df=...)` and its `.fit_transform` method._\n",
    "\n",
    "Now again transform the training data into a matrix of **word** unigram feature vectors. What is the fraction of words in the development vocabulary that is missing from the training vocabulary?<br/>\n",
    "_Hint: Build vocabularies for both train and dev and look at the size of the difference._\n",
    "\n",
    "Notes:\n",
    "* `.fit_transform` makes 2 passes through the data: first it computes the vocabulary (\"fit\"), second it converts the raw text into feature vectors using the vocabulary (\"transform\").\n",
    "* `.fit_transform` and `.transform` return sparse matrix objects.  See about them at http://docs.scipy.org/doc/scipy-0.14.0/reference/generated/scipy.sparse.csr_matrix.html.  "
   ]
  },
  {
   "cell_type": "code",
   "execution_count": 5,
   "metadata": {
    "colab": {},
    "colab_type": "code",
    "id": "LyVwk5RvFsxn"
   },
   "outputs": [
    {
     "name": "stdout",
     "output_type": "stream",
     "text": [
      "The size of the vocabulary in the unigram is : 26879\n",
      "The average non-zero entries per row in the unigram is 96.70599803343165\n",
      "The fraction of the non-zero entries in the unigram matrix is 0.0035978272269590263\n",
      "The first string in the unigram is 00\n",
      "The last string in the unigram is zyxel\n",
      "The length of the vocabulary we specified is 4\n",
      "the average non-zero entries for the unigram with a specified vocab per example is 0.26843657817109146\n",
      "The size of the vocabulary for the bigram is 35478\n",
      "The size of the vocabulary with a frequency of 10 is 3064\n",
      "The fraction of the words in the development category missing in the training category is: 0.24787640034470024\n"
     ]
    }
   ],
   "source": [
    "def non_zero(data):\n",
    "    \"Returns average of non-zero entries\"\n",
    "    non_zero_row = np.count_nonzero(data, axis =1)\n",
    "    mean = np.mean(non_zero_row)\n",
    "    return mean\n",
    "\n",
    "def unigram(data):\n",
    "    \"Creates Unigram and returns size of vocab, non-zero entries, fraction of non-zero entries, and first and last string\"\n",
    "    count_vec = CountVectorizer(ngram_range=(1, 1))\n",
    "    X = count_vec.fit_transform(data)\n",
    "    X = X.toarray() #converts it to array type\n",
    "    names = count_vec.get_feature_names()\n",
    "    names = sorted(names)\n",
    "    print(f'The size of the vocabulary in the unigram is : {len(names)}')\n",
    "    \n",
    "    #Average non-zero entries\n",
    "    print(f'The average non-zero entries per row in the unigram is {non_zero(X)}')\n",
    "    \n",
    "    #fraction of non-zero to entries in array\n",
    "    non_zero_total = np.count_nonzero(X) #counts non-zero entries in sparse array\n",
    "    print(f'The fraction of the non-zero entries in the unigram matrix is {non_zero_total/54671886}') \n",
    "    \n",
    "    #The frist and last string\n",
    "    print(f'The first string in the unigram is {names[0]}')\n",
    "    print(f'The last string in the unigram is {names[-1]}')\n",
    "    \n",
    "unigram(train_data)   \n",
    "\n",
    "def spec_unigram(data, vals =  [\"atheism\", \"graphics\", \"space\", \"religion\"]):\n",
    "    \"Creates unigram using specific vocab\"\n",
    "    count_vec = CountVectorizer(ngram_range=(1,1), vocabulary=vals)\n",
    "    X = count_vec.fit_transform(data)\n",
    "    X = X.toarray()\n",
    "    names = count_vec.get_feature_names() #gets the words in the vocab\n",
    "    #returns length of vocaubulary\n",
    "    print(f'The length of the vocabulary we specified is {len(names)}')\n",
    "    \n",
    "    #get the average of nunber of nonzero entries\n",
    "    print(f'the average non-zero entries for the unigram with a specified vocab per example is {non_zero(X)}')\n",
    "    \n",
    "    \n",
    "spec_unigram(train_data)  \n",
    "\n",
    "def char_bigram(data):\n",
    "    \"Creates Matrix of Bigram-Trigram features based on characters\"\n",
    "    count_vec = CountVectorizer(analyzer='char', ngram_range=(2,3))\n",
    "    X = count_vec.fit_transform(data)\n",
    "    X = X.toarray()\n",
    "    vocab = count_vec.get_feature_names()\n",
    "    print(f'The size of the vocabulary for the bigram is {(len(vocab))}')\n",
    "    \n",
    "char_bigram(train_data)\n",
    "\n",
    "def big_unigram(data):\n",
    "    \"Returns unigram for words that appear in at least 10 docs\"\n",
    "    count_vec = CountVectorizer(ngram_range=(1,1), min_df=10) #only accounts for words that appear in at least 10 docs\n",
    "    X = count_vec.fit_transform(data)\n",
    "    X = X.toarray()\n",
    "    vocabulary = count_vec.get_feature_names()\n",
    "    print(f'The size of the vocabulary with a frequency of 10 is {len(vocabulary)}')\n",
    "\n",
    "big_unigram(train_data)\n",
    "\n",
    "def simple_unigram(data):\n",
    "    \"Returns unigram for train and development data. Compares the length of the vocabulary in each\"\n",
    "    count_vec = CountVectorizer(ngram_range=(1, 1))\n",
    "    X = count_vec.fit_transform(data)\n",
    "    X = X.toarray()\n",
    "    vocab = count_vec.get_feature_names()\n",
    "    return vocab\n",
    "\n",
    "def prop_dif(train_data, dev_data): #ask\n",
    "    \"Returns the size difference between the vocabularies\"\n",
    "    cv_dev = CountVectorizer() #cv for dev features\n",
    "    dev_dta_uni = cv_dev.fit_transform(dev_data)\n",
    "    dev_features = cv_dev.get_feature_names() #dev features\n",
    "    cv_train = CountVectorizer()\n",
    "    cv_train.fit_transform(train_data)\n",
    "    train_features = cv_train.get_feature_names()\n",
    "    vocab_dif = []\n",
    "    for lab in dev_features:\n",
    "        if lab not in train_features:\n",
    "            vocab_dif.append(lab)\n",
    "    return str(len(vocab_dif)/dev_dta_uni.shape[1])\n",
    "            \n",
    "    #dif = len(simple_unigram(train_data))- len(simple_unigram(dev_data))\n",
    "    #dif = np.setdiff1d(simple_unigram(dev_data), simple_unigram(train_data)) \n",
    "    #return len(dif)\n",
    "print(f\"The fraction of the words in the development category missing in the training category is: {prop_dif(train_data, dev_data)}\")\n"
   ]
  },
  {
   "cell_type": "markdown",
   "metadata": {
    "colab_type": "text",
    "id": "ydjkRh6LFsxp"
   },
   "source": [
    "### Part 3:\n",
    "\n",
    "Transform the training and development data to matrices of word unigram feature vectors.\n",
    "\n",
    "1. Produce several k-Nearest Neigbors models by varying k, including one with k set to optimize f1 score.  For each model, show the k value and f1 score.\n",
    "1. Produce several Naive Bayes models by varying smoothing (alpha), including one with alpha set approximately to optimize f1 score.  For each model, show the alpha value and f1 score.\n",
    "1. Produce several Logistic Regression models by varying L2 regularization strength (C), including one with C set approximately to optimize f1 score.  For each model, show the C value, f1 score, and sum of squared weights for each topic.\n",
    "\n",
    "* Why doesn't k-Nearest Neighbors work well for this problem?\n",
    "* Why doesn't Logistic Regression work as well as Naive Bayes does?\n",
    "* What is the relationship between logistic regression's sum of squared weights vs. C value?\n",
    "\n",
    "Notes:\n",
    "* Train on the transformed training data.\n",
    "* Evaluate on the transformed development data.\n",
    "* You can use `CountVectorizer` and its `.fit_transform` and `.transform` methods to transform data.\n",
    "* You can use `KNeighborsClassifier(...)` to produce a k-Nearest Neighbors model.\n",
    "* You can use `MultinomialNB(...)` to produce a Naive Bayes model.\n",
    "* You can use `LogisticRegression(C=..., solver=\"liblinear\", multi_class=\"auto\")` to produce a Logistic Regression model.\n",
    "* You can use `LogisticRegression`'s `.coef_` method to get weights for each topic.\n",
    "* You can use `metrics.f1_score(..., average=\"weighted\")` to compute f1 score."
   ]
  },
  {
   "cell_type": "code",
   "execution_count": 6,
   "metadata": {
    "colab": {},
    "colab_type": "code",
    "id": "VvhpODdWFsxp"
   },
   "outputs": [
    {
     "data": {
      "text/plain": [
       "((2034, 26879), (676, 26879))"
      ]
     },
     "execution_count": 6,
     "metadata": {},
     "output_type": "execute_result"
    }
   ],
   "source": [
    "#transforms data into unigram\n",
    "def simple_unigram(train_data, dev_data):\n",
    "    \"Returns unigram for train and development data. Compares the length of the vocabulary in each\"\n",
    "    count_vec = CountVectorizer(ngram_range=(1, 1))\n",
    "    X_train = count_vec.fit_transform(train_data)\n",
    "    X_dev = count_vec.transform(dev_data)\n",
    "    #X = X.toarray()\n",
    "    return X_train, X_dev\n",
    "train_uni, dev_uni = simple_unigram(train_data, dev_data)\n",
    "train_uni.shape, dev_uni.shape\n"
   ]
  },
  {
   "cell_type": "code",
   "execution_count": 7,
   "metadata": {},
   "outputs": [
    {
     "name": "stdout",
     "output_type": "stream",
     "text": [
      "k:1, f1:0.3805030018531525\n",
      "k:3, f1:0.4084150225437623\n",
      "k:5, f1:0.4287607236218357\n",
      "k:7, f1:0.45047910006117586\n",
      "k:9, f1:0.4365666176198027\n",
      "k:11, f1:0.4266108018696209\n",
      "k:13, f1:0.42404338833763805\n",
      "k:15, f1:0.4326339805547054\n",
      "k:17, f1:0.4485853212909305\n",
      "k:19, f1:0.4365794782510113\n",
      "k:21, f1:0.42609394906353587\n",
      "k:23, f1:0.40811738399495695\n",
      "k:25, f1:0.41610581482270387\n",
      "k:27, f1:0.424466893547113\n",
      "k:29, f1:0.4337845889784843\n",
      "The K with the max F1:(7, 0.45047910006117586)\n"
     ]
    }
   ],
   "source": [
    "def knn(train_x, train_y, dev_x, dev_y):\n",
    "    \"Returns KNN model with varying k, including one that minimizes f1 score\"\n",
    "    lists = []\n",
    "    for idx, i in enumerate(range(1, 30, 2)):\n",
    "        knn = KNeighborsClassifier(n_neighbors=i) #innitializes knn object\n",
    "        knn.fit(train_x, train_y) #fits knn\n",
    "        y_hat = knn.predict(dev_x) \n",
    "        f_1 = metrics.f1_score(dev_y, y_hat, average = \"weighted\")\n",
    "        print(f'k:{i}, f1:{f_1}')\n",
    "        lists.append((i, f_1))\n",
    "    print(f'The K with the max F1:{max(lists, key=lambda x: x[1])}')\n",
    "    \n",
    "        \n",
    "knn(train_uni, train_labels, dev_uni, dev_labels)"
   ]
  },
  {
   "cell_type": "code",
   "execution_count": 8,
   "metadata": {},
   "outputs": [
    {
     "name": "stdout",
     "output_type": "stream",
     "text": [
      "alpha:0.0, f1:0.747240657284563\n",
      "alpha:0.04, f1:0.7844433334970073\n"
     ]
    },
    {
     "name": "stderr",
     "output_type": "stream",
     "text": [
      "/Users/daniellampert/opt/anaconda3/lib/python3.7/site-packages/sklearn/naive_bayes.py:512: UserWarning: alpha too small will result in numeric errors, setting alpha = 1.0e-10\n",
      "  'setting alpha = %.1e' % _ALPHA_MIN)\n"
     ]
    },
    {
     "name": "stdout",
     "output_type": "stream",
     "text": [
      "alpha:0.08, f1:0.7882562245205091\n",
      "alpha:0.12, f1:0.7885466350292981\n",
      "alpha:0.16, f1:0.7890126577144015\n",
      "alpha:0.2, f1:0.7876298330892171\n",
      "alpha:0.24, f1:0.7890335791591067\n",
      "alpha:0.28, f1:0.7918868148009902\n",
      "alpha:0.32, f1:0.787644978407044\n",
      "alpha:0.36, f1:0.7892825222409318\n",
      "alpha:0.4, f1:0.7878811683059115\n",
      "alpha:0.44, f1:0.7876928204244801\n",
      "alpha:0.48, f1:0.7876928204244801\n",
      "alpha:0.52, f1:0.7863020350100258\n",
      "alpha:0.56, f1:0.7846696399117374\n",
      "alpha:0.6, f1:0.7860752087513914\n",
      "alpha:0.64, f1:0.7860752087513914\n",
      "alpha:0.68, f1:0.7847459594060138\n",
      "alpha:0.72, f1:0.7847459594060138\n",
      "alpha:0.76, f1:0.7845011169448908\n",
      "alpha:0.8, f1:0.7845011169448908\n",
      "alpha:0.84, f1:0.7810859843567709\n",
      "alpha:0.88, f1:0.7810859843567709\n",
      "alpha:0.92, f1:0.7794132111647282\n",
      "alpha:0.96, f1:0.7777320236017224\n",
      "alpha:1.0, f1:0.7777320236017224\n",
      "alpha:1.04, f1:0.7777320236017224\n",
      "alpha:1.08, f1:0.7729664127305673\n",
      "alpha:1.12, f1:0.7729664127305673\n",
      "alpha:1.16, f1:0.7712636674021938\n",
      "alpha:1.2, f1:0.7726362310322734\n",
      "alpha:1.24, f1:0.7712103067772015\n",
      "alpha:1.28, f1:0.769921600685054\n",
      "alpha:1.32, f1:0.769921600685054\n",
      "alpha:1.36, f1:0.7714404484397059\n",
      "alpha:1.4000000000000001, f1:0.7714404484397059\n",
      "alpha:1.44, f1:0.7683597985395294\n",
      "alpha:1.48, f1:0.7683597985395294\n",
      "alpha:1.52, f1:0.7712448358710029\n",
      "alpha:1.56, f1:0.771348752056862\n",
      "alpha:1.6, f1:0.771348752056862\n",
      "alpha:1.6400000000000001, f1:0.7727134322798318\n",
      "alpha:1.68, f1:0.7727134322798318\n",
      "alpha:1.72, f1:0.771280465772347\n",
      "alpha:1.76, f1:0.771357988908152\n",
      "alpha:1.8, f1:0.7699933086851823\n",
      "alpha:1.84, f1:0.7682674158410727\n",
      "alpha:1.8800000000000001, f1:0.7682674158410727\n",
      "alpha:1.92, f1:0.7663667608943273\n",
      "alpha:1.96, f1:0.7663667608943273\n",
      "alpha:2.0, f1:0.7689966472342658\n",
      "alpha:2.04, f1:0.7689966472342658\n",
      "alpha:2.08, f1:0.7689966472342658\n",
      "alpha:2.12, f1:0.7689966472342658\n",
      "alpha:2.16, f1:0.7659698893199458\n",
      "alpha:2.2, f1:0.7639600750757245\n",
      "alpha:2.24, f1:0.7640405044375715\n",
      "alpha:2.2800000000000002, f1:0.7640405044375715\n",
      "alpha:2.32, f1:0.7640405044375715\n",
      "alpha:2.36, f1:0.7622620211675537\n",
      "alpha:2.4, f1:0.7604729453613784\n",
      "alpha:2.44, f1:0.7619885780372655\n",
      "alpha:2.48, f1:0.7615179846131832\n",
      "alpha:2.52, f1:0.760219671633201\n",
      "alpha:2.56, f1:0.760219671633201\n",
      "alpha:2.6, f1:0.760219671633201\n",
      "alpha:2.64, f1:0.760219671633201\n",
      "alpha:2.68, f1:0.760219671633201\n",
      "alpha:2.72, f1:0.7597337608670893\n",
      "alpha:2.7600000000000002, f1:0.7579036215057344\n",
      "alpha:2.8000000000000003, f1:0.7579036215057344\n",
      "alpha:2.84, f1:0.7560617859261242\n",
      "alpha:2.88, f1:0.7560617859261242\n",
      "alpha:2.92, f1:0.755517703266233\n",
      "alpha:2.96, f1:0.7540837683726805\n",
      "alpha:3.0, f1:0.7540837683726805\n",
      "alpha:3.04, f1:0.7540837683726805\n",
      "alpha:3.08, f1:0.7540837683726805\n",
      "alpha:3.12, f1:0.7540837683726805\n",
      "alpha:3.16, f1:0.7488916296803678\n",
      "alpha:3.2, f1:0.7488916296803678\n",
      "alpha:3.24, f1:0.7501891628037674\n",
      "alpha:3.2800000000000002, f1:0.7501891628037674\n",
      "alpha:3.3200000000000003, f1:0.7501891628037674\n",
      "alpha:3.36, f1:0.748751863702645\n",
      "alpha:3.4, f1:0.748751863702645\n",
      "alpha:3.44, f1:0.7466722592360867\n",
      "alpha:3.48, f1:0.7447532584963459\n",
      "alpha:3.52, f1:0.7447532584963459\n",
      "alpha:3.56, f1:0.7428208721385161\n",
      "alpha:3.6, f1:0.7413846839942168\n",
      "alpha:3.64, f1:0.7413846839942168\n",
      "alpha:3.68, f1:0.7380006090459543\n",
      "alpha:3.72, f1:0.7380006090459543\n",
      "alpha:3.7600000000000002, f1:0.7380006090459543\n",
      "alpha:3.8000000000000003, f1:0.7358667903121068\n",
      "alpha:3.84, f1:0.7358667903121068\n",
      "alpha:3.88, f1:0.734429656753569\n",
      "alpha:3.92, f1:0.735696349488766\n",
      "alpha:3.96, f1:0.735696349488766\n",
      "alpha:4.0, f1:0.7355241821577173\n",
      "alpha:4.04, f1:0.7335337084613502\n",
      "alpha:4.08, f1:0.7335337084613502\n",
      "alpha:4.12, f1:0.7335337084613502\n",
      "alpha:4.16, f1:0.7322579924496319\n",
      "alpha:4.2, f1:0.7308119315133887\n",
      "alpha:4.24, f1:0.7306492259480593\n",
      "alpha:4.28, f1:0.7292037491729157\n",
      "alpha:4.32, f1:0.7292037491729157\n",
      "alpha:4.36, f1:0.7292037491729157\n",
      "alpha:4.4, f1:0.7292037491729157\n",
      "alpha:4.44, f1:0.7292037491729157\n",
      "alpha:4.48, f1:0.7292037491729157\n",
      "alpha:4.5200000000000005, f1:0.7276847597154832\n",
      "alpha:4.5600000000000005, f1:0.7276847597154832\n",
      "alpha:4.6000000000000005, f1:0.7276847597154832\n",
      "alpha:4.64, f1:0.7262375755367598\n",
      "alpha:4.68, f1:0.7262375755367598\n",
      "alpha:4.72, f1:0.724788107819782\n",
      "alpha:4.76, f1:0.724788107819782\n",
      "alpha:4.8, f1:0.724788107819782\n",
      "alpha:4.84, f1:0.724788107819782\n",
      "alpha:4.88, f1:0.724788107819782\n",
      "alpha:4.92, f1:0.724788107819782\n",
      "alpha:4.96, f1:0.724788107819782\n",
      "alpha:5.0, f1:0.7234892095047329\n",
      "alpha:5.04, f1:0.7234892095047329\n",
      "alpha:5.08, f1:0.7234892095047329\n",
      "alpha:5.12, f1:0.7220323231842001\n",
      "alpha:5.16, f1:0.7220323231842001\n",
      "alpha:5.2, f1:0.7220323231842001\n",
      "alpha:5.24, f1:0.7200302805029393\n",
      "alpha:5.28, f1:0.7180131773818613\n",
      "alpha:5.32, f1:0.715980717871509\n",
      "alpha:5.36, f1:0.7159858221704043\n",
      "alpha:5.4, f1:0.7159858221704043\n",
      "alpha:5.44, f1:0.714526484325876\n",
      "alpha:5.48, f1:0.714526484325876\n",
      "alpha:5.5200000000000005, f1:0.714526484325876\n",
      "alpha:5.5600000000000005, f1:0.7145381851796577\n",
      "alpha:5.6000000000000005, f1:0.7145381851796577\n",
      "alpha:5.64, f1:0.7124806325855487\n",
      "alpha:5.68, f1:0.7104067319870705\n",
      "alpha:5.72, f1:0.7116387371918351\n",
      "alpha:5.76, f1:0.7116387371918351\n",
      "alpha:5.8, f1:0.7116387371918351\n",
      "alpha:5.84, f1:0.7116387371918351\n",
      "alpha:5.88, f1:0.7116387371918351\n",
      "alpha:5.92, f1:0.7116387371918351\n",
      "alpha:5.96, f1:0.7116387371918351\n",
      "The alpha with the max F1:(0.28, 0.7918868148009902)\n"
     ]
    }
   ],
   "source": [
    "def mnb(train_data, train_labels, dev_data, dev_labels):\n",
    "    \"Trains and returns a multinomial naive bayes model\"\n",
    "    lists = []\n",
    "    for i in np.arange(0, 6, 0.04):\n",
    "        nb = MultinomialNB(alpha=i) #innitiales multinomial naive bayes object\n",
    "        nb.fit(train_data, train_labels) #fits model\n",
    "        y_hat = nb.predict(dev_data) #predicts on dev data\n",
    "        f1= metrics.f1_score(dev_labels, y_hat, average='weighted')\n",
    "        print(f\"alpha:{i}, f1:{f1}\")\n",
    "        lists.append((i, f1))\n",
    "    print(f'The alpha with the max F1:{max(lists, key=lambda x: x[1])}')\n",
    "    \n",
    "mnb(train_uni, train_labels, dev_uni, dev_labels)"
   ]
  },
  {
   "cell_type": "code",
   "execution_count": 9,
   "metadata": {},
   "outputs": [
    {
     "name": "stdout",
     "output_type": "stream",
     "text": [
      "c:1.0 f1:0.6944172871853819, squared weights:601.6147641014375\n",
      "c:1.5 f1:0.6889998700970759, squared weights:776.7240378476646\n",
      "c:2.0 f1:0.6924826561168351, squared weights:921.8360969365771\n",
      "c:2.5 f1:0.6910442144257875, squared weights:1047.369034122505\n",
      "c:3.0 f1:0.6910442144257875, squared weights:1158.534543680072\n",
      "c:3.5 f1:0.6894367162292433, squared weights:1258.5955675789246\n",
      "c:4.0 f1:0.6894367162292433, squared weights:1350.1086491627113\n",
      "c:4.5 f1:0.6894367162292433, squared weights:1434.3740489176528\n",
      "c:5.0 f1:0.6910114442307702, squared weights:1512.9424177191984\n",
      "c:5.5 f1:0.6926384514126078, squared weights:1587.3288839934035\n",
      "c:6.0 f1:0.6910150917913751, squared weights:1656.2835033608633\n",
      "c:6.5 f1:0.6926477465740102, squared weights:1720.8321549566583\n",
      "c:7.0 f1:0.6911048942184228, squared weights:1784.2051804359437\n",
      "c:7.5 f1:0.6895006056491882, squared weights:1843.622898675653\n",
      "c:8.0 f1:0.6877753618061956, squared weights:1900.5525054404636\n",
      "c:8.5 f1:0.6877753618061956, squared weights:1954.032693779033\n",
      "c:9.0 f1:0.6878637642251847, squared weights:2004.0816017401044\n",
      "c:9.5 f1:0.6865669233056786, squared weights:2056.888307613146\n",
      "c:10.0 f1:0.6865669233056786, squared weights:2104.365123046779\n",
      "c:10.5 f1:0.6851036779484215, squared weights:2150.399467709459\n",
      "c:11.0 f1:0.6837309808223602, squared weights:2197.455750100315\n",
      "c:11.5 f1:0.6837309808223602, squared weights:2238.4420358401544\n",
      "c:12.0 f1:0.6838157896294613, squared weights:2283.0156498681117\n",
      "c:12.5 f1:0.6821702697461125, squared weights:2326.3630461326443\n",
      "c:13.0 f1:0.6836285480312295, squared weights:2366.438199299959\n",
      "c:13.5 f1:0.6821702697461125, squared weights:2404.9214399813764\n",
      "The C with the max F1:(1.0, 0.6944172871853819)\n"
     ]
    }
   ],
   "source": [
    "def multi_log(train_data, train_labels, dev_data, dev_labels):\n",
    "    \"Trains and returns multi-class logistic regression model\"\n",
    "    lists = []\n",
    "    for c in np.arange(1, 14,.5):\n",
    "        log_mod = LogisticRegression(C = c, solver=\"liblinear\", multi_class=\"auto\")\n",
    "        log_mod.fit(train_data, train_labels)\n",
    "        y_hat = log_mod.predict(dev_data)\n",
    "        f_1 = metrics.f1_score(dev_labels, y_hat, average='weighted')\n",
    "        coef = log_mod.coef_\n",
    "        squared_weights = np.sum(np.square(coef))\n",
    "        print(f'c:{c} f1:{f_1}, squared weights:{squared_weights}')\n",
    "        lists.append((c, f_1)) #append values into tuple \n",
    "    print(f'The C with the max F1:{max(lists, key=lambda x: x[1])}')\n",
    "multi_log(train_uni, train_labels, dev_uni, dev_labels)  "
   ]
  },
  {
   "cell_type": "markdown",
   "metadata": {
    "colab_type": "text",
    "id": "jWtXwAlOFsxr"
   },
   "source": [
    "ANSWER:\n",
    "4. KNN does not work well for this problem because the data is relatively high dimensional. Establishing decision bounderies in high dimensional data does not typically work super well. This is the case because establishing bounderies becomes very complicated. Moreover, KNN is a computationally intensive algorithm in the case of sparse matrices. For this situation, it is not the most appropriate choice. \n",
    "\n",
    "5. In this case, Naive Bayes was more accurate than logistic regression. I believe this is the case because the training data size is relatively small in comparison to the number of features. In this case, the generative nature of Naive Bayes is beneficial and increases the speed of convergence. With a larger training set, Logistic Regression would likely start to outperform Naive Bayes.\n",
    "\n",
    "6. As C increases in the logistic regression the weights continually increase. "
   ]
  },
  {
   "cell_type": "markdown",
   "metadata": {
    "colab_type": "text",
    "id": "dGEjsm_uFsxr"
   },
   "source": [
    "### Part 4:\n",
    "\n",
    "Transform the data to a matrix of word **bigram** feature vectors.  Produce a Logistic Regression model.  For each topic, find the 5 features with the largest weights (that's 20 features in total).  Show a 20 row (features) x 4 column (topics) table of the weights.\n",
    "\n",
    "Do you see any surprising features in this table?\n",
    "\n",
    "Notes:\n",
    "* Train on the transformed training data.\n",
    "* You can use `CountVectorizer` and its `.fit_transform` method to transform data.\n",
    "* You can use `LogisticRegression(C=0.5, solver=\"liblinear\", multi_class=\"auto\")` to produce a Logistic Regression model.\n",
    "* You can use `LogisticRegression`'s `.coef_` method to get weights for each topic.\n",
    "* You can use `np.argsort` to get indices sorted by element value. "
   ]
  },
  {
   "cell_type": "code",
   "execution_count": 10,
   "metadata": {
    "colab": {},
    "colab_type": "code",
    "id": "WN51Nv4fFsxs"
   },
   "outputs": [
    {
     "data": {
      "image/png": "[encoded data removed]",
      "text/plain": [
       "<Figure size 432x288 with 1 Axes>"
      ]
     },
     "metadata": {
      "needs_background": "light"
     },
     "output_type": "display_data"
    }
   ],
   "source": [
    "def bigram(train_data, dev_data):\n",
    "    \"Returns bigram for train and development data. Compares the length of the vocabulary in each\"\n",
    "    count_vec = CountVectorizer(ngram_range=(2, 2))\n",
    "    X_train = count_vec.fit_transform(train_data)\n",
    "    X_dev = count_vec.transform(dev_data)\n",
    "    #X = X.toarray()\n",
    "    return count_vec.get_feature_names() , X_train, X_dev\n",
    "train_vocab, train_bigram, dev_bigram = bigram(train_data, dev_data)\n",
    "\n",
    "def logit_weights(train_data, train_vocab, train_labels):\n",
    "    \"Fits logistic regression model and tests on dev data\"\n",
    "    log_mod = LogisticRegression(C=0.5, solver = \"liblinear\", multi_class=\"auto\") #innitializes logistic regression object\n",
    "    log_mod.fit(train_data, train_labels) #fits logistic regression model\n",
    "    coefs = log_mod.coef_\n",
    "    weight_indices = np.argpartition(coefs, -5)[:, -5:]\n",
    "    feat = []\n",
    "    for i in weight_indices: \n",
    "        for x in i:\n",
    "            feat.append(train_vocab[x])\n",
    "    feat_1 = np.round(np.take(log_mod.coef_[0], weight_indices), 5)\n",
    "    feat_2= np.round(np.take(log_mod.coef_[1], weight_indices), 4)\n",
    "    feat_3 = np.round(np.take(log_mod.coef_[2], weight_indices), 4)\n",
    "    feat_4 = np.round(np.take(log_mod.coef_[3], weight_indices), 4)\n",
    "    \n",
    "    col_vals = np.transpose(np.column_stack((feat_1, feat_2, feat_3, feat_4)))\n",
    "    col_labels = [\"alt.atheism\", \"comp.graphics\", \"sci.space\", \"talk.religion.misc\"]\n",
    "    \n",
    "    tab = plt.table(cellText=col_vals, colLabels = col_labels, rowLabels=feat)\n",
    "    tab.scale(2,2)\n",
    "    plt.title(\"Biggest Weights Table\")\n",
    "    plt.grid(False)\n",
    "    plt.axis('off')\n",
    "    plt.show()\n",
    "\n",
    "    \n",
    "logit_weights(train_bigram, train_vocab, train_labels)\n",
    "    \n",
    "    \n",
    "    \n",
    "    \n",
    "    "
   ]
  },
  {
   "cell_type": "markdown",
   "metadata": {
    "colab_type": "text",
    "id": "cY67F-tXFsxt"
   },
   "source": [
    "ANSWER: I'm surprised by the presence of negative values. I interpret this as some bigrams have no association with a certain topic. I'm also surprised that \"are you\" and \"you are\" are strongly associated with \"alt.atheism\". It does not seem like they would be highly related"
   ]
  },
  {
   "cell_type": "markdown",
   "metadata": {
    "colab_type": "text",
    "id": "rVWhSJHHFsxu"
   },
   "source": [
    "### Part 5:\n",
    "\n",
    "To improve generalization, it is common to try preprocessing text in various ways before splitting into words. For example, you could try transforming strings to lower case, replacing sequences of numbers with single tokens, removing various non-letter characters, and shortening long words.\n",
    "\n",
    "Produce a Logistic Regression model (with no preprocessing of text).  Evaluate and show its f1 score and size of the dictionary.\n",
    "\n",
    "Produce an improved Logistic Regression model by preprocessing the text.  Evaluate and show its f1 score and size of the vocabulary.  Try for an improvement in f1 score of at least 0.02.\n",
    "\n",
    "How much did the improved model reduce the vocabulary size?\n",
    "\n",
    "Notes:\n",
    "* Train on the transformed training data.\n",
    "* Evaluate on the transformed development data.\n",
    "* You can use `CountVectorizer(preprocessor=...)` to preprocess strings with your own custom-defined function.\n",
    "* `CountVectorizer` default is to preprocess strings to lower case.\n",
    "* You can use `LogisticRegression(C=0.5, solver=\"liblinear\", multi_class=\"auto\")` to produce a logistic regression model.\n",
    "* You can use `metrics.f1_score(..., average=\"weighted\")` to compute f1 score.\n",
    "* If you're not already familiar with regular expressions for manipulating strings, see https://docs.python.org/2/library/re.html, and re.sub() in particular."
   ]
  },
  {
   "cell_type": "code",
   "execution_count": 10,
   "metadata": {},
   "outputs": [
    {
     "name": "stderr",
     "output_type": "stream",
     "text": [
      "[nltk_data] Downloading package stopwords to\n",
      "[nltk_data]     /Users/daniellampert/nltk_data...\n",
      "[nltk_data]   Package stopwords is already up-to-date!\n",
      "[nltk_data] Downloading package punkt to\n",
      "[nltk_data]     /Users/daniellampert/nltk_data...\n",
      "[nltk_data]   Package punkt is already up-to-date!\n",
      "[nltk_data] Downloading package averaged_perceptron_tagger to\n",
      "[nltk_data]     /Users/daniellampert/nltk_data...\n",
      "[nltk_data]   Package averaged_perceptron_tagger is already up-to-\n",
      "[nltk_data]       date!\n",
      "[nltk_data] Downloading package maxent_ne_chunker to\n",
      "[nltk_data]     /Users/daniellampert/nltk_data...\n",
      "[nltk_data]   Package maxent_ne_chunker is already up-to-date!\n",
      "[nltk_data] Downloading package words to\n",
      "[nltk_data]     /Users/daniellampert/nltk_data...\n",
      "[nltk_data]   Package words is already up-to-date!\n"
     ]
    },
    {
     "data": {
      "text/plain": [
       "True"
      ]
     },
     "execution_count": 10,
     "metadata": {},
     "output_type": "execute_result"
    }
   ],
   "source": [
    "#required downloads to use nltk\n",
    "nltk.download('stopwords') #download list of stopwords\n",
    "nltk.download('punkt')\n",
    "nltk.download('averaged_perceptron_tagger')\n",
    "nltk.download('maxent_ne_chunker')\n",
    "nltk.download('words')"
   ]
  },
  {
   "cell_type": "code",
   "execution_count": 81,
   "metadata": {
    "colab": {},
    "colab_type": "code",
    "id": "l7gS3cGpFsxv"
   },
   "outputs": [
    {
     "name": "stdout",
     "output_type": "stream",
     "text": [
      "The size of the vocabulary is : 33291\n",
      "The size of the vocabulary is : 21260\n",
      "The F1 score is : 0.7069109185493502\n",
      "The F1 score is : 0.7240262061663476\n"
     ]
    }
   ],
   "source": [
    "def better_preprocessor(s):\n",
    "    \"Makes strings more consistent for better prediction\"\n",
    "    s = s.lower() #converts string to lowercase\n",
    "    s = re.sub(r'\\d+', ' num ', s) #converts numbers to string \"num\"\n",
    "    s = re.sub(\"[^A-Za-z0-9 \\\\n]\", \" \", s) #removes non-letter, non-number characters\n",
    "    \n",
    "    s = s.strip() #removes white space\n",
    "    s = \" \".join(s.split()) \n",
    "    s = s.replace('[^\\w\\s]','')\n",
    "    #stop_words are technically not preprocessing\n",
    "    \n",
    "    stop_words = ['the', 'me', 'my', 'we', 'a', 'he', 'she',\\\n",
    "                  'they', 'it', 'its', 'i', 'you', 'yours', 'am', 'them', 'being', 'too', 'to', 'our', 'ours',\\\n",
    "                 'is', 'are', 'was', 'had', 'has', 'did', 'and']\n",
    "    for i in stop_words: #iterates over stop words\n",
    "        s = s.replace(i, \"\")\n",
    "    ps = nltk.stem.SnowballStemmer(\"english\") #.PorterStemmer()\n",
    "    for w in s: \n",
    "        s = s.replace(w, ps.stem(w))\n",
    "    #s = nltk.ne_chunk(nltk.pos_tag(nltk.word_tokenize(s)))\n",
    "    s = re.sub('\\s(\\d*\\s\\w*\\s\\d*)\\s', ' date ', s) # replace dates with string 'date'\n",
    "    return s\n",
    "def empty_pre_proc(s):\n",
    "    \"empyter preprocessor\"\n",
    "    return s\n",
    "\n",
    "def P5():\n",
    "    \"Creates two logistic regression models. One where the data is pre-processed, one that is not\"\n",
    "    def logistic_regression(train_data, train_labels, dev_data, dev_labels):\n",
    "        \"Trains a logistic regression algorithm\"\n",
    "        logit = LogisticRegression(C=0.5, solver=\"liblinear\", multi_class=\"auto\")\n",
    "        logit.fit(train_data, train_labels) # fits model\n",
    "        y_hat = logit.predict(dev_data)  # predict onto dev data\n",
    "        print(f\"The F1 score is : {metrics.f1_score(dev_labels, y_hat, average = 'weighted')}\")\n",
    "\n",
    "              \n",
    "    def processed_count_vec(train_data, dev_data, processor): #give empty processor\n",
    "        \"Returns count vec that uses preprocessing\"\n",
    "        cv = CountVectorizer(preprocessor=processor)\n",
    "        X_train = cv.fit_transform(train_data)\n",
    "        X_dev = cv.transform(dev_data)\n",
    "        vocabulary = cv.get_feature_names()\n",
    "        print(f'The size of the vocabulary is : {len(vocabulary)}')\n",
    "        return X_train, X_dev\n",
    "    # Process Data\n",
    "    stand_train_data, stand_dev_data = processed_count_vec(train_data, dev_data, processor=empty_pre_proc) #Processed data without pre-process\n",
    "    #Process data with preprocessing\n",
    "    pre_train_data, pre_dev_data = processed_count_vec(train_data, dev_data, processor=better_preprocessor)\n",
    "    #fit both models\n",
    "    logistic_regression(stand_train_data, train_labels, stand_dev_data, dev_labels) #the F1 score for the non-preprocessed data\n",
    "    logistic_regression(pre_train_data, train_labels, pre_dev_data, dev_labels) # the F1 score for the pre-processed data\n",
    "              \n",
    "        \n",
    "    \n",
    "    ### STUDENT START ###\n",
    "    ### STUDENT END ###\n",
    "\n",
    "P5()  \n"
   ]
  },
  {
   "cell_type": "markdown",
   "metadata": {},
   "source": [
    "The improved model decreased vocabulary size by slightly more than 12k words, or approximately 36%."
   ]
  },
  {
   "cell_type": "markdown",
   "metadata": {
    "colab_type": "text",
    "id": "Uy-WITbNFsxw"
   },
   "source": [
    "### Part 6:\n",
    "\n",
    "The idea of regularization is to avoid learning very large weights (which are likely to fit the training data, but not generalize well) by adding a penalty to the total size of the learned weights. Logistic regression seeks the set of weights that minimizes errors in the training data AND has a small total size. The default L2 regularization computes this size as the sum of the squared weights (as in Part 3 above). L1 regularization computes this size as the sum of the absolute values of the weights. Whereas L2 regularization makes all the weights relatively small, L1 regularization drives many of the weights to 0, effectively removing unimportant features.\n",
    "\n",
    "For several L1 regularization strengths ...<br/>\n",
    "* Produce a Logistic Regression model using the **L1** regularization strength.  Reduce the vocabulary to only those features that have at least one non-zero weight among the four categories.  Produce a new Logistic Regression model using the reduced vocabulary and **L2** regularization strength of 0.5.  Evaluate and show the L1 regularization strength, vocabulary size, and f1 score associated with the new model.\n",
    "\n",
    "Show a plot of f1 score vs. log vocabulary size.  Each point corresponds to a specific L1 regularization strength used to reduce the vocabulary.\n",
    "\n",
    "How does performance of the models based on reduced vocabularies compare to that of a model based on the full vocabulary?\n",
    "\n",
    "Notes:\n",
    "* Train on the transformed training data.\n",
    "* Evaluate on the transformed development data.\n",
    "* You can use `LogisticRegression(..., penalty=\"l1\")` to produce a logistic regression model using L1 regularization.\n",
    "* You can use `LogisticRegression(..., penalty=\"l2\")` to produce a logistic regression model using L2 regularization.\n",
    "* You can use `LogisticRegression(..., tol=0.015)` to produce a logistic regression model using relaxed gradient descent convergence criteria.  The gradient descent code that trains the logistic regression model sometimes has trouble converging with extreme settings of the C parameter. Relax the convergence criteria by setting tol=.015 (the default is .0001)."
   ]
  },
  {
   "cell_type": "code",
   "execution_count": 82,
   "metadata": {
    "colab": {},
    "colab_type": "code",
    "id": "l6ho31SrFsxx"
   },
   "outputs": [
    {
     "name": "stdout",
     "output_type": "stream",
     "text": [
      "The L1 regularization strength is 0.1, the size of the vocab is 218.0 the F1 Score is 0.7\n",
      "The L1 regularization strength is 0.3, the size of the vocab is 532.0 the F1 Score is 0.68\n",
      "The L1 regularization strength is 0.5, the size of the vocab is 732.0 the F1 Score is 0.67\n",
      "The L1 regularization strength is 0.7, the size of the vocab is 928.0 the F1 Score is 0.68\n"
     ]
    },
    {
     "name": "stderr",
     "output_type": "stream",
     "text": [
      "/Users/daniellampert/opt/anaconda3/lib/python3.7/site-packages/sklearn/svm/_base.py:977: ConvergenceWarning: Liblinear failed to converge, increase the number of iterations.\n",
      "  \"the number of iterations.\", ConvergenceWarning)\n"
     ]
    },
    {
     "name": "stdout",
     "output_type": "stream",
     "text": [
      "The L1 regularization strength is 0.9, the size of the vocab is 1031.0 the F1 Score is 0.68\n",
      "The L1 regularization strength is 1.1, the size of the vocab is 1205.0 the F1 Score is 0.69\n",
      "The L1 regularization strength is 1.3, the size of the vocab is 1295.0 the F1 Score is 0.69\n",
      "The L1 regularization strength is 1.5, the size of the vocab is 1384.0 the F1 Score is 0.68\n",
      "The L1 regularization strength is 1.7, the size of the vocab is 1481.0 the F1 Score is 0.68\n",
      "The L1 regularization strength is 1.9, the size of the vocab is 1564.0 the F1 Score is 0.67\n",
      "The L1 regularization strength is 2.1, the size of the vocab is 1555.0 the F1 Score is 0.69\n",
      "The L1 regularization strength is 2.3, the size of the vocab is 1758.0 the F1 Score is 0.69\n",
      "The L1 regularization strength is 2.5, the size of the vocab is 1649.0 the F1 Score is 0.69\n",
      "The L1 regularization strength is 2.7, the size of the vocab is 1813.0 the F1 Score is 0.69\n",
      "The L1 regularization strength is 2.9, the size of the vocab is 1776.0 the F1 Score is 0.68\n",
      "The L1 regularization strength is 3.1, the size of the vocab is 2194.0 the F1 Score is 0.7\n",
      "The L1 regularization strength is 3.3, the size of the vocab is 1846.0 the F1 Score is 0.69\n",
      "The L1 regularization strength is 3.5, the size of the vocab is 2134.0 the F1 Score is 0.71\n",
      "The L1 regularization strength is 3.7, the size of the vocab is 2249.0 the F1 Score is 0.69\n",
      "The L1 regularization strength is 3.9, the size of the vocab is 2689.0 the F1 Score is 0.7\n",
      "The L1 regularization strength is 4.1, the size of the vocab is 2478.0 the F1 Score is 0.71\n",
      "The L1 regularization strength is 4.3, the size of the vocab is 2310.0 the F1 Score is 0.68\n",
      "The L1 regularization strength is 4.5, the size of the vocab is 2523.0 the F1 Score is 0.7\n",
      "The L1 regularization strength is 4.7, the size of the vocab is 2249.0 the F1 Score is 0.7\n",
      "The L1 regularization strength is 4.9, the size of the vocab is 2628.0 the F1 Score is 0.7\n",
      "The L1 regularization strength is 6.0, the size of the vocab is 2785.0 the F1 Score is 0.7\n",
      "The L1 regularization strength is 16.0, the size of the vocab is 3874.0 the F1 Score is 0.68\n",
      "The L1 regularization strength is 26.0, the size of the vocab is 4498.0 the F1 Score is 0.7\n",
      "The L1 regularization strength is 36.0, the size of the vocab is 5218.0 the F1 Score is 0.69\n",
      "The L1 regularization strength is 46.0, the size of the vocab is 5786.0 the F1 Score is 0.69\n",
      "The L1 regularization strength is 56.0, the size of the vocab is 6315.0 the F1 Score is 0.7\n",
      "The L1 regularization strength is 66.0, the size of the vocab is 6656.0 the F1 Score is 0.69\n",
      "The L1 regularization strength is 76.0, the size of the vocab is 7063.0 the F1 Score is 0.68\n",
      "The L1 regularization strength is 86.0, the size of the vocab is 7364.0 the F1 Score is 0.7\n",
      "The L1 regularization strength is 96.0, the size of the vocab is 7692.0 the F1 Score is 0.69\n"
     ]
    },
    {
     "data": {
      "image/png": "[encoded data removed]",
      "text/plain": [
       "<Figure size 1008x288 with 1 Axes>"
      ]
     },
     "metadata": {},
     "output_type": "display_data"
    }
   ],
   "source": [
    "    \n",
    "def P6():\n",
    "    #Keep this random seed here to make comparison easier.\n",
    "    np.random.seed(0)\n",
    "    c_small, c_big = np.arange(0.1, 5, 0.2), np.arange(6, 100, 10)\n",
    "    c =  np.concatenate([c_small, c_big])# sets range of c values for penalization\n",
    "    f1 = np.zeros(len(c))\n",
    "    vocab_size = np.zeros(len(c))\n",
    "    non_zero_weights = np.zeros(len(c))\n",
    "    \n",
    "    def logit(train_x, train_y, dev_x, dev_y, penal, c, tol = 0.015):\n",
    "        \"Helper function for logistic regression\"\n",
    "        log_reg = LogisticRegression(C=c, solver=\"liblinear\", multi_class=\"auto\", penalty=penal, tol=tol)\n",
    "        log_reg.fit(train_x, train_y)\n",
    "        return log_reg\n",
    "    \n",
    "    #iterate over length of penalization to set up logit model\n",
    "    for i in range(len(c)):\n",
    "        cv = CountVectorizer()\n",
    "        train_transform = cv.fit_transform(train_data) #transforms the training data into count vectorizer\n",
    "        dev_transform = cv.transform(dev_data)\n",
    "        #train logistic regression model with l1 penalty\n",
    "        log_l1 = logit(train_uni, train_labels, dev_transform, dev_labels, penal=\"l1\", c = c[i]) #train model, object is trained log_reg\n",
    "        vocab_size[i] = np.count_nonzero(np.apply_along_axis(np.count_nonzero, 0, log_l1.coef_)) #counts non-zero entries\n",
    "        non_zero_weights[i] = np.sum(np.apply_along_axis(np.count_nonzero, 0, log_l1.coef_))\n",
    "        #find coefficients that are not zero\n",
    "        mask = log_l1.coef_!=0\n",
    "        idx = mask.any(axis = 0)\n",
    "        train_non_0, dev_non_0 = train_transform[:, idx], dev_transform[:, idx] \n",
    "        \n",
    "        #Train and predict with l2 penalization\n",
    "        log_l2 = logit(train_non_0, train_labels, dev_non_0, dev_labels, penal = \"l2\", c = 0.5)\n",
    "        y_hat = log_l2.predict(dev_non_0) #predict on dev data without 0 entries\n",
    "        f1[i] = metrics.f1_score(y_true=dev_labels, y_pred=y_hat, average='weighted')\n",
    "        print(f'The L1 regularization strength is {round(c[i], 2)}, the size of the vocab is {round(vocab_size[i],1)} the F1 Score is {round(f1[i],2)}')\n",
    "    #create plot\n",
    "    plt.style.use('ggplot')\n",
    "    plt.figure(figsize=(14, 4))\n",
    "    plt.scatter(np.log(vocab_size), f1)\n",
    "    plt.xlabel(\"Vocab Size\")\n",
    "    plt.ylabel(\"F1 Score\")\n",
    "    plt.title(\"Vocab Size vs F1 Score\")\n",
    "    \n",
    "    ### STUDENT START ###\n",
    "    ### STUDENT END ###\n",
    "\n",
    "P6()"
   ]
  },
  {
   "cell_type": "markdown",
   "metadata": {
    "colab_type": "text",
    "id": "bZmIPwExFsx1"
   },
   "source": [
    "ANSWER: There is a non-linear relationship between vocabulary size and f1 score. Besides the one outlier with a high f1 score and a low vocabulary size, the f1 score with a small vocabulary is fairly low and continually grows as the vocabulary grows larger, peaking at around 2500 then the f1 score goes down again. I am surprised that the relationship is as flat as it is."
   ]
  },
  {
   "cell_type": "markdown",
   "metadata": {
    "colab_type": "text",
    "id": "QmrHf8AMFsxz"
   },
   "source": [
    "### Part 7:\n",
    "\n",
    "How is `TfidfVectorizer` different than `CountVectorizer`?\n",
    "\n",
    "Produce a Logistic Regression model based on data represented in tf-idf form, with L2 regularization strength of 100.  Evaluate and show the f1 score.  How is `TfidfVectorizer` different than `CountVectorizer`?\n",
    "\n",
    "Show the 3 documents with highest R ratio, where ...<br/>\n",
    "$R\\,ratio = maximum\\,predicted\\,probability \\div predicted\\,probability\\,of\\,correct\\,label$\n",
    "\n",
    "Explain what the R ratio describes.  What kinds of mistakes is the model making? Suggest a way to address one particular issue that you see.\n",
    "\n",
    "Note:\n",
    "* Train on the transformed training data.\n",
    "* Evaluate on the transformed development data.\n",
    "* You can use `TfidfVectorizer` and its `.fit_transform` method to transform data to tf-idf form.\n",
    "* You can use `LogisticRegression(C=100, solver=\"liblinear\", multi_class=\"auto\")` to produce a logistic regression model.\n",
    "* You can use `LogisticRegression`'s `.predict_proba` method to access predicted probabilities."
   ]
  },
  {
   "cell_type": "code",
   "execution_count": 83,
   "metadata": {
    "colab": {},
    "colab_type": "code",
    "id": "8vwU_9t2Fsx0"
   },
   "outputs": [
    {
     "name": "stdout",
     "output_type": "stream",
     "text": [
      "The F1 Score is : 0.7597662427853104\n",
      "Top 3 r-ratios: [929.3582382222635, 325.0041389124428, 287.30591498634175]\n",
      "[215, 665, 607]\n",
      "message:215\n",
      "Label:3\n",
      "Predicted Label: 1\n",
      "The associated text is        [\n",
      "I am pleased to announce that a *revised version* of _The Easy-to-Read Book\n",
      "of Mormon_ (former title: _Mormon's Book_) by Lynn Matthews Anderson is now\n",
      "available through anonymous ftp (see information below). In addition to the\n",
      "change in title, the revised ETR BOM has been shortened by several pages\n",
      "(eliminating many extraneous \"that's\" and \"of's\"), and many (minor) errors\n",
      "have been corrected. This release includes a simplified Joseph Smith Story,\n",
      "testimonies of the three and eight witnesses, and a \"Words-to-Know\"\n",
      "glossary.\n",
      "\n",
      "As with the previous announcement, readers are reminded that this is a\n",
      "not-for-profit endeavor. This is a copyrighted work, but people are welcome\n",
      "to make *verbatim* copies for personal use. People can recuperate the\n",
      "actual costs of printing (paper, copy center charges), but may not charge\n",
      "anything for their time in making copies, or in any way realize a profit\n",
      "from the use of this book. See the permissions notice in the book itself\n",
      "for the precise terms.\n",
      "\n",
      "Negotiations are currently underway with a Mormon publisher vis-a-vis the\n",
      "printing and distribution of bound books. (Sorry, I'm out of the wire-bound\n",
      "\"first editions.\") I will make another announcement about the availability\n",
      "of printed copies once everything has been worked out.\n",
      "\n",
      "FTP information: connect via anonymous ftp to carnot.itc.cmu.edu, then \"cd\n",
      "pub\" (you won't see anything at all until you do).\n",
      "\n",
      "\"The Easy-to-Read Book of Mormon\" is currently available in postscript and\n",
      "RTF (rich text format). (ASCII, LaTeX, and other versions can be made\n",
      "available; contact dba@andrew.cmu.edu for details.) You should be able to\n",
      "print the postscript file on any postscript printer (such as an Apple\n",
      "Laserwriter); let dba know if you have any difficulties. (The postscript in\n",
      "the last release had problems on some printers; this time it should work\n",
      "better.) RTF is a standard document interchange format that can be read in\n",
      "by a number of word processors, including Microsoft Word for both the\n",
      "Macintosh and Windows. If you don't have a postscript printer, you may be\n",
      "able to use the RTF file to print out a copy of the book.\n",
      "\n",
      "-r--r--r--  1 dba                   1984742 Apr 27 13:12 etrbom.ps\n",
      "-r--r--r--  1 dba                   1209071 Apr 27 13:13 etrbom.rtf\n",
      "\n",
      "For more information about how this project came about, please refer to my\n",
      "article in the current issue of _Sunstone_, entitled \"Delighting in\n",
      "Plainness: Issues Surrounding a Simple Modern English Book of Mormon.\"\n",
      "\n",
      "Send all inquiries and comments to:\n",
      "\n",
      "    Lynn Matthews Anderson\n",
      "    5806 Hampton Street\n",
      "    Pittsburgh, PA 15206\n",
      "        ]\n",
      "message:665\n",
      "Label:3\n",
      "Predicted Label: 1\n",
      "The associated text is        [\n",
      "Can anyone provide me a ftp site where I can obtain a online version\n",
      "of the Book of Mormon. Please email the internet address if possible.\n",
      "        ]\n",
      "message:607\n",
      "Label:0\n",
      "Predicted Label: 3\n",
      "The associated text is        [\n",
      "\n",
      "The 24 children were, of course, killed by a lone gunman in a second story\n",
      "window, who fired eight bullets in the space of two seconds...\n",
      "\n",
      "        ]\n"
     ]
    }
   ],
   "source": [
    "def P7():\n",
    "    def tf_idf(train_data, train_labels):\n",
    "        \"Term Frequency Inverse Document Frequency for text data\"\n",
    "        tfid = TfidfVectorizer()\n",
    "        X_train = tfid.fit_transform(train_data) # TFIDF on train data\n",
    "        X_dev = tfid.transform(dev_data)\n",
    "        return X_train, X_dev\n",
    "    def logit(train_data, train_labels, dev_data, dev_labels):\n",
    "        \"Fits a logistic regression model and returns the f1 score as the metric\"\n",
    "        lg = LogisticRegression(C=100, solver=\"liblinear\", multi_class=\"auto\")\n",
    "        lg.fit(train_data, train_labels)\n",
    "        y_hat = lg.predict(dev_data)\n",
    "        f1 = metrics.f1_score(dev_labels, y_hat, average=\"weighted\")\n",
    "        proba = lg.predict_proba(dev_data) #predicted probablility\n",
    "        return y_hat,proba, f1\n",
    "    tran_train, tran_dev = tf_idf(train_data, train_labels)\n",
    "    y_hat, probs, f1 = logit(tran_train, train_labels, tran_dev, dev_labels)\n",
    "    print(f\"The F1 Score is : {f1}\")\n",
    "    #max_probs = np.max(probs, axis = 1)\n",
    "    r_rat = []\n",
    "    for i in range(len(dev_labels)):\n",
    "        max_probs = np.max(probs[i])\n",
    "        correct_probs = probs[i][dev_labels[i]]\n",
    "        r = max_probs/correct_probs\n",
    "        r_rat.append(r) \n",
    "    print(f\"Top 3 r-ratios: {sorted(r_rat, reverse = True)[0:3]}\") #gets largest r ratios\n",
    "    indexes = [r_rat.index(929.3582382222635),r_rat.index(325.0041389124428), r_rat.index(287.30591498634175)] \n",
    "    print(indexes)\n",
    "    for j in indexes:\n",
    "        print(f'message:{j}')\n",
    "        print(f'Label:{dev_labels[j]}')\n",
    "        print(f'Predicted Label: {y_hat[j]}')\n",
    "        \n",
    "        print(\"The associated text is\\\n",
    "        [\")\n",
    "        print(dev_data[j])\n",
    "        print(\"\\\n",
    "        ]\")\n",
    "    \n",
    "\n",
    "P7()"
   ]
  },
  {
   "cell_type": "markdown",
   "metadata": {
    "colab_type": "text",
    "id": "bZmIPwExFsx1"
   },
   "source": [
    "ANSWER: \n",
    "1. Count Vectorizer simply counts the frequency of words. TFID Vectorizer increases the value proportionally to the count, but is inversely proportional to the word in the total body of text. This means that TFID accounts for the fact that some words are more commonly used, and thus, most likely less usefull in prediction. For example, the word \"the\" probably has a very high count throughout the corpus but likely is useless in prediction since it is not unique to certain categories. \n",
    "2. In this exercise, the performance increased with TFID as seen in the higher F1 score. \n",
    "\n",
    "3. The R ratio describes the ratio of the maximum predicted probality to the probability of the correct label. It shows how far the predicted probabilities are from the actual probabilities. This means that a higher R score is worse. \n",
    "4. One potential mistake the model is making is that certain key words that are generally associated with a given topic are leading to the incorrect classification of other bodies of text. I think this is the case because two of the 3 topics are very short in length. Therefore an individual word could potentially lead to its misclassification. Although topic 1 is much longer in length, I think the classification issue is the same because it contains text associated with computer graphics but the topic is actually religion. My suggestion would be to adjust the weights of keep words to improve external validity. "
   ]
  },
  {
   "cell_type": "markdown",
   "metadata": {
    "colab_type": "text",
    "id": "VmsDxtzoFsx1"
   },
   "source": [
    "### Part 8 EXTRA CREDIT:\n",
    "\n",
    "Produce a Logistic Regression model to implement your suggestion from Part 7."
   ]
  },
  {
   "cell_type": "markdown",
   "metadata": {},
   "source": [
    "In an attempt to deal with misclassification due to words that are highly associated with a certain topic, I will make the training weights even in the logistic regression model. "
   ]
  },
  {
   "cell_type": "code",
   "execution_count": 84,
   "metadata": {
    "colab": {},
    "colab_type": "code",
    "id": "ZMaqe8c5Fsx2"
   },
   "outputs": [
    {
     "name": "stdout",
     "output_type": "stream",
     "text": [
      "(array([0, 1, 2, 3]), array([480, 584, 593, 377]))\n",
      "The F1 score for the balanced data is 0.7716424381858508\n"
     ]
    }
   ],
   "source": [
    "print(np.unique(train_labels, return_counts=True)) #the distribution of classes is somewhat skewed\n",
    "def tf_idf(train_data, train_labels):\n",
    "        \"Term Frequency Inverse Document Frequency for text data\"\n",
    "        tfid = TfidfVectorizer()\n",
    "        X_train = tfid.fit_transform(train_data) # TFIDF on train data\n",
    "        X_dev = tfid.transform(dev_data)\n",
    "        return X_train, X_dev\n",
    "tran_train, tran_dev = tf_idf(train_data, train_labels) #use tfidk to transform data\n",
    "def balanced_logit(train_data, train_labels, dev_data, dev_labels):\n",
    "    \"Creates balanced logistic regression model\"\n",
    "    lr = LogisticRegression(C=100, solver=\"liblinear\", multi_class=\"auto\", class_weight='balanced')\n",
    "    lr.fit(train_data, train_labels)\n",
    "    y_hat = lr.predict(dev_data)\n",
    "    return metrics.f1_score(dev_labels, y_hat, average = \"weighted\")\n",
    "print(f\"The F1 score for the balanced data is {balanced_logit(tran_train, train_labels, tran_dev, dev_labels)}\")"
   ]
  },
  {
   "cell_type": "markdown",
   "metadata": {},
   "source": [
    "That improved the F1 score by 2%!"
   ]
  }
 ],
 "metadata": {
  "colab": {
   "collapsed_sections": [],
   "name": "firstname_lastname_p2.ipynb",
   "private_outputs": true,
   "provenance": [
    {
     "file_id": "https://github.com/MIDS-W207/Master/blob/master/Projects/firstname_lastname_p2.ipynb",
     "timestamp": 1559779272103
    }
   ],
   "version": "0.3.2"
  },
  "kernelspec": {
   "display_name": "Python 3",
   "language": "python",
   "name": "python3"
  },
  "language_info": {
   "codemirror_mode": {
    "name": "ipython",
    "version": 3
   },
   "file_extension": ".py",
   "mimetype": "text/x-python",
   "name": "python",
   "nbconvert_exporter": "python",
   "pygments_lexer": "ipython3",
   "version": "3.7.4"
  },
  "toc": {
   "base_numbering": 1,
   "nav_menu": {},
   "number_sections": false,
   "sideBar": true,
   "skip_h1_title": true,
   "title_cell": "Table of Contents",
   "title_sidebar": "Contents",
   "toc_cell": false,
   "toc_position": {},
   "toc_section_display": true,
   "toc_window_display": false
  }
 },
 "nbformat": 4,
 "nbformat_minor": 4
}
